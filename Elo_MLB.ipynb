{
 "cells": [
  {
   "cell_type": "code",
   "execution_count": 1,
   "id": "cc971be3",
   "metadata": {},
   "outputs": [],
   "source": [
    "import pandas as pd\n",
    "import matplotlib.pyplot as plt \n",
    "from scipy.stats import pearsonr\n",
    "from scipy.stats import bernoulli\n",
    "import numpy as np\n",
    "import statistics as stats\n",
    "import math\n",
    "import random\n",
    "from unidecode import unidecode"
   ]
  },
  {
   "cell_type": "code",
   "execution_count": 2,
   "id": "cacb5209",
   "metadata": {},
   "outputs": [],
   "source": [
    "sample = pd.read_csv(open('MLB-PbP-Sample.csv'))"
   ]
  },
  {
   "cell_type": "code",
   "execution_count": 3,
   "id": "f1a1a104",
   "metadata": {},
   "outputs": [],
   "source": [
    "df_2022 = pd.read_csv(open('2022_MLB_PbP_Logs.csv'))"
   ]
  },
  {
   "cell_type": "code",
   "execution_count": 4,
   "id": "49f8777f",
   "metadata": {},
   "outputs": [],
   "source": [
    "reg_df = df_2022.loc[df_2022['BIGDATABALL\\nDATASET'] == 'MLB 2022 Regular Season']"
   ]
  },
  {
   "cell_type": "code",
   "execution_count": 5,
   "id": "e1fc9147",
   "metadata": {
    "scrolled": false
   },
   "outputs": [],
   "source": [
    "# Weights are based on expected run values\n",
    "weights = [-0.26,-0.25,-0.2,0.3,-0.23,0,0.75,-0.31,0.44,0.31,-0.23,-0.75,0,1.37,0.49,-0.1,-0.75,-0.31,0.18,1.02,0.3]\n",
    "play_weights = dict(zip(df_2022['PLAY TYPE'].unique(), weights))"
   ]
  },
  {
   "cell_type": "code",
   "execution_count": 6,
   "id": "4ff5e6ef",
   "metadata": {},
   "outputs": [],
   "source": [
    "def update(winner, loser, w):\n",
    "    K = 10*w\n",
    "    s = 400\n",
    "    return round(K / (1 + math.exp((winner - loser)/s)))"
   ]
  },
  {
   "cell_type": "code",
   "execution_count": 7,
   "id": "d610e1f1",
   "metadata": {},
   "outputs": [],
   "source": [
    "batters = reg_df['BATTER'].unique()\n",
    "batter_elos = dict(zip(batters, ([] for _ in batters)))\n",
    "\n",
    "pitchers = reg_df['PITCHER'].unique()\n",
    "pitcher_elos = dict(zip(pitchers, ([] for _ in pitchers)))"
   ]
  },
  {
   "cell_type": "code",
   "execution_count": 8,
   "id": "e7f6e141",
   "metadata": {},
   "outputs": [],
   "source": [
    "# Initialize df for batting and pitching Elo\n",
    "batting_df = pd.DataFrame(columns = ['Name', 'L/R', 'RElo', 'LElo','Elo'])\n",
    "pitching_df = pd.DataFrame(columns = ['Name', 'L/R', 'RElo', 'LElo','Elo'])\n",
    "\n",
    "for row in reg_df.iterrows():\n",
    "    # If batter is not yet in dataframe\n",
    "    if (row[1]['BATTER'] in batting_df['Name'].values) == False :\n",
    "        batting_df = batting_df.append({'Name' : row[1]['BATTER'], 'L/R' : row[1]['BATTER\\nHAND'], 'RElo' : 1500, 'LElo' : 1500, 'Elo' : 1500},\n",
    "        ignore_index = True)\n",
    "    # If pitcher is not yet in dataframe\n",
    "    if (row[1]['PITCHER'] in pitching_df['Name'].values) == False :\n",
    "        pitching_df = pitching_df.append({'Name' : row[1]['PITCHER'], 'L/R' : row[1]['PITCHER\\nHAND'], 'RElo' : 1500, 'LElo' : 1500, 'Elo' : 1500},\n",
    "        ignore_index = True)\n",
    "        \n",
    "    # Get index of hitter and pitcher\n",
    "    bi = batting_df.index[batting_df['Name'] == row[1]['BATTER']][0]\n",
    "    pi = pitching_df.index[pitching_df['Name'] == row[1]['PITCHER']][0]\n",
    "    \n",
    "    # Get pitcher and hitter overall Elo\n",
    "    bElo = batting_df.loc[bi, 'Elo']\n",
    "    pElo = pitching_df.loc[pi, 'Elo']\n",
    "    \n",
    "    # Update Elos based on outcome of PAs\n",
    "    if math.isnan(row[1]['OUTS']):\n",
    "        bElo += update(bElo, pElo, play_weights[row[1]['PLAY TYPE']])\n",
    "        pElo -= update(bElo, pElo, play_weights[row[1]['PLAY TYPE']])\n",
    "    else:\n",
    "        bElo += update(pElo, bElo, play_weights[row[1]['PLAY TYPE']])\n",
    "        pElo -= update(pElo, bElo, play_weights[row[1]['PLAY TYPE']])\n",
    "        \n",
    "    # Temporary for plot purposes\n",
    "    batter_elos[row[1]['BATTER']].append(bElo)\n",
    "    pitcher_elos[row[1]['PITCHER']].append(pElo)\n",
    "        \n",
    "    batting_df.at[bi,'Elo'] = bElo\n",
    "    pitching_df.at[pi,'Elo'] = pElo"
   ]
  },
  {
   "cell_type": "code",
   "execution_count": 9,
   "id": "db2e19b3",
   "metadata": {},
   "outputs": [],
   "source": [
    "for row in reg_df.iterrows():\n",
    "    # Get index of hitter and pitcher\n",
    "    bi = batting_df.index[batting_df['Name'] == row[1]['BATTER']][0]\n",
    "    pi = pitching_df.index[pitching_df['Name'] == row[1]['PITCHER']][0]\n",
    "    \n",
    "    # Determine whether to update RElo or LElo\n",
    "    if row[1]['BATTER\\nHAND'] == 'L':\n",
    "        phElo = pitching_df.loc[pi, 'LElo']\n",
    "    elif row[1]['BATTER\\nHAND']  == 'R':\n",
    "        phElo = pitching_df.loc[pi, 'RElo']\n",
    "    else :\n",
    "        # For switch hitter, bats from opposite side as pitcher\n",
    "        if row[1]['PITCHER\\nHAND']  == 'L':\n",
    "            phElo = pitching_df.loc[pi, 'RElo']\n",
    "        else:\n",
    "            phElo = pitching_df.loc[pi, 'LElo']\n",
    "            \n",
    "    if row[1]['PITCHER\\nHAND']  == 'L':\n",
    "        bhElo = batting_df.loc[bi, 'LElo']\n",
    "    else :\n",
    "        bhElo = batting_df.loc[bi, 'RElo']\n",
    "    \n",
    "    # Update Elos based on outcome of PAs\n",
    "    if math.isnan(row[1]['OUTS']):   \n",
    "        bhElo += update(bhElo, phElo, play_weights[row[1]['PLAY TYPE']])\n",
    "        phElo -= update(bhElo, phElo, play_weights[row[1]['PLAY TYPE']])\n",
    "    else:\n",
    "        bhElo += update(phElo, bhElo, play_weights[row[1]['PLAY TYPE']])\n",
    "        phElo -= update(phElo, bhElo, play_weights[row[1]['PLAY TYPE']])\n",
    "    \n",
    "    if row[1]['BATTER\\nHAND'] == 'L':\n",
    "        pitching_df.at[pi,'LElo'] = phElo\n",
    "    elif row[1]['BATTER\\nHAND'] == 'R':\n",
    "        pitching_df.at[pi,'RElo'] = phElo\n",
    "    else :\n",
    "        if row[1]['PITCHER\\nHAND'] == 'L':\n",
    "            pitching_df.at[pi,'RElo'] = phElo\n",
    "        else:\n",
    "            pitching_df.at[pi,'LElo'] = phElo\n",
    "            \n",
    "    if row[1]['PITCHER\\nHAND'] == 'L':\n",
    "        batting_df.at[bi,'LElo'] = bhElo\n",
    "    else :\n",
    "        batting_df.at[bi,'RElo'] = bhElo"
   ]
  },
  {
   "cell_type": "code",
   "execution_count": 353,
   "id": "3a640c5d",
   "metadata": {},
   "outputs": [
    {
     "data": {
      "text/html": [
       "<div>\n",
       "<style scoped>\n",
       "    .dataframe tbody tr th:only-of-type {\n",
       "        vertical-align: middle;\n",
       "    }\n",
       "\n",
       "    .dataframe tbody tr th {\n",
       "        vertical-align: top;\n",
       "    }\n",
       "\n",
       "    .dataframe thead th {\n",
       "        text-align: right;\n",
       "    }\n",
       "</style>\n",
       "<table border=\"1\" class=\"dataframe\">\n",
       "  <thead>\n",
       "    <tr style=\"text-align: right;\">\n",
       "      <th></th>\n",
       "      <th>Name</th>\n",
       "      <th>L/R</th>\n",
       "      <th>RElo</th>\n",
       "      <th>LElo</th>\n",
       "      <th>Elo</th>\n",
       "    </tr>\n",
       "  </thead>\n",
       "  <tbody>\n",
       "    <tr>\n",
       "      <th>286</th>\n",
       "      <td>Justin Verlander</td>\n",
       "      <td>R</td>\n",
       "      <td>1539</td>\n",
       "      <td>1601</td>\n",
       "      <td>1623</td>\n",
       "    </tr>\n",
       "    <tr>\n",
       "      <th>263</th>\n",
       "      <td>Emmanuel Clase</td>\n",
       "      <td>R</td>\n",
       "      <td>1561</td>\n",
       "      <td>1544</td>\n",
       "      <td>1598</td>\n",
       "    </tr>\n",
       "    <tr>\n",
       "      <th>132</th>\n",
       "      <td>Sandy Alcantara</td>\n",
       "      <td>R</td>\n",
       "      <td>1532</td>\n",
       "      <td>1583</td>\n",
       "      <td>1596</td>\n",
       "    </tr>\n",
       "    <tr>\n",
       "      <th>477</th>\n",
       "      <td>Zac Gallen</td>\n",
       "      <td>R</td>\n",
       "      <td>1511</td>\n",
       "      <td>1597</td>\n",
       "      <td>1593</td>\n",
       "    </tr>\n",
       "    <tr>\n",
       "      <th>37</th>\n",
       "      <td>Max Fried</td>\n",
       "      <td>L</td>\n",
       "      <td>1558</td>\n",
       "      <td>1532</td>\n",
       "      <td>1585</td>\n",
       "    </tr>\n",
       "    <tr>\n",
       "      <th>280</th>\n",
       "      <td>Tony Gonsolin</td>\n",
       "      <td>R</td>\n",
       "      <td>1529</td>\n",
       "      <td>1564</td>\n",
       "      <td>1584</td>\n",
       "    </tr>\n",
       "    <tr>\n",
       "      <th>46</th>\n",
       "      <td>Shohei Ohtani</td>\n",
       "      <td>R</td>\n",
       "      <td>1563</td>\n",
       "      <td>1519</td>\n",
       "      <td>1579</td>\n",
       "    </tr>\n",
       "    <tr>\n",
       "      <th>356</th>\n",
       "      <td>Evan Phillips</td>\n",
       "      <td>R</td>\n",
       "      <td>1543</td>\n",
       "      <td>1535</td>\n",
       "      <td>1578</td>\n",
       "    </tr>\n",
       "    <tr>\n",
       "      <th>102</th>\n",
       "      <td>Shane McClanahan</td>\n",
       "      <td>L</td>\n",
       "      <td>1567</td>\n",
       "      <td>1510</td>\n",
       "      <td>1576</td>\n",
       "    </tr>\n",
       "    <tr>\n",
       "      <th>36</th>\n",
       "      <td>Edwin Diaz</td>\n",
       "      <td>R</td>\n",
       "      <td>1533</td>\n",
       "      <td>1544</td>\n",
       "      <td>1573</td>\n",
       "    </tr>\n",
       "  </tbody>\n",
       "</table>\n",
       "</div>"
      ],
      "text/plain": [
       "                 Name L/R  RElo  LElo   Elo\n",
       "286  Justin Verlander   R  1539  1601  1623\n",
       "263    Emmanuel Clase   R  1561  1544  1598\n",
       "132   Sandy Alcantara   R  1532  1583  1596\n",
       "477        Zac Gallen   R  1511  1597  1593\n",
       "37          Max Fried   L  1558  1532  1585\n",
       "280     Tony Gonsolin   R  1529  1564  1584\n",
       "46      Shohei Ohtani   R  1563  1519  1579\n",
       "356     Evan Phillips   R  1543  1535  1578\n",
       "102  Shane McClanahan   L  1567  1510  1576\n",
       "36         Edwin Diaz   R  1533  1544  1573"
      ]
     },
     "execution_count": 353,
     "metadata": {},
     "output_type": "execute_result"
    }
   ],
   "source": [
    "pitching_df = pitching_df.sort_values(by='Elo', ascending=False)\n",
    "pitching_df.head(10)"
   ]
  },
  {
   "cell_type": "code",
   "execution_count": 431,
   "id": "21dd5f0c",
   "metadata": {
    "scrolled": false
   },
   "outputs": [
    {
     "data": {
      "text/html": [
       "<div>\n",
       "<style scoped>\n",
       "    .dataframe tbody tr th:only-of-type {\n",
       "        vertical-align: middle;\n",
       "    }\n",
       "\n",
       "    .dataframe tbody tr th {\n",
       "        vertical-align: top;\n",
       "    }\n",
       "\n",
       "    .dataframe thead th {\n",
       "        text-align: right;\n",
       "    }\n",
       "</style>\n",
       "<table border=\"1\" class=\"dataframe\">\n",
       "  <thead>\n",
       "    <tr style=\"text-align: right;\">\n",
       "      <th></th>\n",
       "      <th>Name</th>\n",
       "      <th>L/R</th>\n",
       "      <th>RElo</th>\n",
       "      <th>LElo</th>\n",
       "      <th>Elo</th>\n",
       "    </tr>\n",
       "  </thead>\n",
       "  <tbody>\n",
       "    <tr>\n",
       "      <th>147</th>\n",
       "      <td>Aaron Judge</td>\n",
       "      <td>R</td>\n",
       "      <td>1721</td>\n",
       "      <td>1563</td>\n",
       "      <td>1731</td>\n",
       "    </tr>\n",
       "    <tr>\n",
       "      <th>222</th>\n",
       "      <td>Freddie Freeman</td>\n",
       "      <td>L</td>\n",
       "      <td>1665</td>\n",
       "      <td>1548</td>\n",
       "      <td>1677</td>\n",
       "    </tr>\n",
       "    <tr>\n",
       "      <th>104</th>\n",
       "      <td>Yordan Alvarez</td>\n",
       "      <td>L</td>\n",
       "      <td>1624</td>\n",
       "      <td>1582</td>\n",
       "      <td>1657</td>\n",
       "    </tr>\n",
       "    <tr>\n",
       "      <th>107</th>\n",
       "      <td>Mike Trout</td>\n",
       "      <td>R</td>\n",
       "      <td>1619</td>\n",
       "      <td>1574</td>\n",
       "      <td>1655</td>\n",
       "    </tr>\n",
       "    <tr>\n",
       "      <th>46</th>\n",
       "      <td>Paul Goldschmidt</td>\n",
       "      <td>R</td>\n",
       "      <td>1616</td>\n",
       "      <td>1619</td>\n",
       "      <td>1653</td>\n",
       "    </tr>\n",
       "    <tr>\n",
       "      <th>101</th>\n",
       "      <td>Jose Altuve</td>\n",
       "      <td>R</td>\n",
       "      <td>1591</td>\n",
       "      <td>1584</td>\n",
       "      <td>1647</td>\n",
       "    </tr>\n",
       "    <tr>\n",
       "      <th>249</th>\n",
       "      <td>Julio Rodriguez</td>\n",
       "      <td>R</td>\n",
       "      <td>1617</td>\n",
       "      <td>1536</td>\n",
       "      <td>1641</td>\n",
       "    </tr>\n",
       "    <tr>\n",
       "      <th>106</th>\n",
       "      <td>Shohei Ohtani</td>\n",
       "      <td>L</td>\n",
       "      <td>1618</td>\n",
       "      <td>1549</td>\n",
       "      <td>1637</td>\n",
       "    </tr>\n",
       "    <tr>\n",
       "      <th>121</th>\n",
       "      <td>Manny Machado</td>\n",
       "      <td>R</td>\n",
       "      <td>1629</td>\n",
       "      <td>1541</td>\n",
       "      <td>1632</td>\n",
       "    </tr>\n",
       "    <tr>\n",
       "      <th>221</th>\n",
       "      <td>Mookie Betts</td>\n",
       "      <td>R</td>\n",
       "      <td>1585</td>\n",
       "      <td>1568</td>\n",
       "      <td>1628</td>\n",
       "    </tr>\n",
       "  </tbody>\n",
       "</table>\n",
       "</div>"
      ],
      "text/plain": [
       "                 Name L/R  RElo  LElo   Elo\n",
       "147       Aaron Judge   R  1721  1563  1731\n",
       "222   Freddie Freeman   L  1665  1548  1677\n",
       "104    Yordan Alvarez   L  1624  1582  1657\n",
       "107        Mike Trout   R  1619  1574  1655\n",
       "46   Paul Goldschmidt   R  1616  1619  1653\n",
       "101       Jose Altuve   R  1591  1584  1647\n",
       "249   Julio Rodriguez   R  1617  1536  1641\n",
       "106     Shohei Ohtani   L  1618  1549  1637\n",
       "121     Manny Machado   R  1629  1541  1632\n",
       "221      Mookie Betts   R  1585  1568  1628"
      ]
     },
     "execution_count": 431,
     "metadata": {},
     "output_type": "execute_result"
    }
   ],
   "source": [
    "batting_df = batting_df.sort_values(by='Elo', ascending=False)\n",
    "batting_df.head(10)"
   ]
  },
  {
   "cell_type": "code",
   "execution_count": 103,
   "id": "e15943d6",
   "metadata": {},
   "outputs": [],
   "source": [
    "pRLdiff = np.subtract(list(pitching_df['RElo']), list(pitching_df['LElo']))\n",
    "bRLdiff = np.subtract(list(batting_df['RElo']), list(batting_df['LElo']))"
   ]
  },
  {
   "cell_type": "code",
   "execution_count": 356,
   "id": "368411c6",
   "metadata": {},
   "outputs": [
    {
     "name": "stdout",
     "output_type": "stream",
     "text": [
      "-1\n",
      "1024.9024943310658\n",
      "-0.5\n",
      "821.0201148357366\n"
     ]
    },
    {
     "data": {
      "image/png": "[encoded data removed]",
      "text/plain": [
       "<Figure size 432x288 with 1 Axes>"
      ]
     },
     "metadata": {
      "needs_background": "light"
     },
     "output_type": "display_data"
    }
   ],
   "source": [
    "plt.hist(bRLdiff, bins = 20, label = \"Batters\")\n",
    "plt.hist(pRLdiff, bins = 20, color = 'crimson', alpha=0.7, label = \"Pitchers\")\n",
    "\n",
    "plt.xlabel(\"Elo Diff\")\n",
    "plt.ylabel(\"Players\")\n",
    "plt.title(\"R/L Elo Difference\")\n",
    "\n",
    "plt.legend(loc=\"upper right\")\n",
    "\n",
    "plt.savefig('diffhist.png')\n",
    "\n",
    "print(stats.median(bRLdiff))\n",
    "print(np.var(bRLdiff))\n",
    "\n",
    "print(stats.median(pRLdiff))\n",
    "print(np.var(pRLdiff))"
   ]
  },
  {
   "cell_type": "code",
   "execution_count": 350,
   "id": "7d72a1f2",
   "metadata": {},
   "outputs": [
    {
     "name": "stdout",
     "output_type": "stream",
     "text": [
      "1493.9481566820277\n",
      "855.5791095054045\n",
      "1508.878787878788\n",
      "1437.7601993965632\n"
     ]
    },
    {
     "data": {
      "image/png": "[encoded data removed]",
      "text/plain": [
       "<Figure size 432x288 with 1 Axes>"
      ]
     },
     "metadata": {
      "needs_background": "light"
     },
     "output_type": "display_data"
    }
   ],
   "source": [
    "plt.hist(list(pitching_df['Elo']), bins = 20, label = \"Pitchers\")\n",
    "plt.hist(list(batting_df['Elo']), bins = 20, color = 'crimson', alpha=0.7, label = \"Batters\")\n",
    "\n",
    "plt.xlabel(\"Elo\")\n",
    "plt.ylabel(\"Players\")\n",
    "plt.title(\"Elo Frequency\")\n",
    "\n",
    "plt.legend(loc=\"upper right\")\n",
    "\n",
    "plt.savefig('elohist.png')\n",
    "\n",
    "print(stats.mean(pitching_df['Elo']))\n",
    "print(np.var(pitching_df['Elo']))\n",
    "\n",
    "print(stats.mean(batting_df['Elo']))\n",
    "print(np.var(batting_df['Elo']))"
   ]
  },
  {
   "cell_type": "code",
   "execution_count": 360,
   "id": "81236c19",
   "metadata": {},
   "outputs": [],
   "source": [
    "# Batting leaderboard from BaseballReference\n",
    "batting_leaders = pd.read_csv(open('batting_leaders.csv'))\n",
    "batting_leaders['Name'] = batting_leaders['Name'].str.replace(r'[*#]', '', regex=True)\n",
    "batting_leaders['Name'] = batting_leaders['Name'].str.replace(r'\\xa0', ' ', regex=True)\n",
    "    \n",
    "ops = []\n",
    "elos = []\n",
    "\n",
    "# Starting pitching leaderboard from BaseballReference\n",
    "sp_leaders = pd.read_csv(open('sp_leaders.csv'))\n",
    "sp_leaders['Name'] = sp_leaders['Name'].str.replace(r'[*#]', '', regex=True)\n",
    "sp_leaders['Name'] = sp_leaders['Name'].str.replace(r'\\xa0', ' ', regex=True)\n",
    "    \n",
    "era = []\n",
    "elos2 = []\n",
    "\n",
    "# Relief pitching leaderboard from BaseballReference\n",
    "rp_leaders = pd.read_csv(open('rp_leaders.csv'))\n",
    "rp_leaders['Name'] = rp_leaders['Name'].str.replace(r'[*#]', '', regex=True)\n",
    "rp_leaders['Name'] = rp_leaders['Name'].str.replace(r'\\xa0', ' ', regex=True)\n",
    "    \n",
    "era2 = []\n",
    "elos3 = []"
   ]
  },
  {
   "cell_type": "code",
   "execution_count": 361,
   "id": "fe8da721",
   "metadata": {},
   "outputs": [],
   "source": [
    "# Get OPS and Elo pairs\n",
    "for row in batting_leaders.iterrows():\n",
    "    r = batting_df.loc[batting_df['Name'] == row[1]['Name'], 'Elo']\n",
    "    if len(r) != 0:\n",
    "        ops.append(row[1]['OPS'])\n",
    "        \n",
    "        elo = r.iloc[0]\n",
    "        elos.append(elo)\n",
    "\n",
    "# Get OPS and Elo pairs\n",
    "for row in sp_leaders.iterrows():\n",
    "    r = pitching_df.loc[pitching_df['Name'] == row[1]['Name'], 'Elo']\n",
    "    if len(r) != 0:\n",
    "        era.append(row[1]['ERA'])\n",
    "        \n",
    "        elo = r.iloc[0]\n",
    "        elos2.append(elo)\n",
    "        \n",
    "# Get OPS and Elo pairs\n",
    "for row in rp_leaders.iterrows():\n",
    "    r = pitching_df.loc[pitching_df['Name'] == row[1]['Name'], 'Elo']\n",
    "    if len(r) != 0:\n",
    "        era2.append(row[1]['ERA'])\n",
    "        \n",
    "        elo = r.iloc[0]\n",
    "        elos3.append(elo)"
   ]
  },
  {
   "cell_type": "code",
   "execution_count": 362,
   "id": "8718cded",
   "metadata": {},
   "outputs": [
    {
     "data": {
      "image/png": "[encoded data removed]",
      "text/plain": [
       "<Figure size 432x288 with 1 Axes>"
      ]
     },
     "metadata": {
      "needs_background": "light"
     },
     "output_type": "display_data"
    },
    {
     "data": {
      "text/plain": [
       "(0.9459964344646936, 1.3346956513486163e-57)"
      ]
     },
     "execution_count": 362,
     "metadata": {},
     "output_type": "execute_result"
    }
   ],
   "source": [
    "plt.scatter(ops, elos)\n",
    "plt.xlabel(\"OPS\")\n",
    "plt.ylabel(\"Elo\")\n",
    "plt.title(\"Batter Elo vs. OPS\")\n",
    "\n",
    "plt.savefig('elovops.png')\n",
    "plt.show()\n",
    "\n",
    "pearsonr(ops, elos)"
   ]
  },
  {
   "cell_type": "code",
   "execution_count": 363,
   "id": "702e38f8",
   "metadata": {},
   "outputs": [
    {
     "data": {
      "image/png": "[encoded data removed]",
      "text/plain": [
       "<Figure size 432x288 with 1 Axes>"
      ]
     },
     "metadata": {
      "needs_background": "light"
     },
     "output_type": "display_data"
    },
    {
     "name": "stdout",
     "output_type": "stream",
     "text": [
      "(-0.9022684114838007, 1.5530305854008902e-51)\n",
      "(-0.8249771720621224, 7.3672726458727e-71)\n"
     ]
    }
   ],
   "source": [
    "plt.scatter(era, elos2, label = 'SP')\n",
    "plt.scatter(era2, elos3, color = 'crimson', alpha = 0.7, label = 'RP')\n",
    "plt.xlabel(\"ERA\")\n",
    "plt.ylabel(\"Elo\")\n",
    "plt.title(\"Pitcher Elo vs. ERA\")\n",
    "plt.legend(loc=\"upper right\")\n",
    "\n",
    "plt.savefig('elovera.png')\n",
    "plt.show()\n",
    "\n",
    "print(pearsonr(era, elos2))\n",
    "print(pearsonr(era2, elos3))"
   ]
  },
  {
   "cell_type": "code",
   "execution_count": 59,
   "id": "937c8477",
   "metadata": {},
   "outputs": [
    {
     "data": {
      "image/png": "[encoded data removed]",
      "text/plain": [
       "<Figure size 432x288 with 1 Axes>"
      ]
     },
     "metadata": {
      "needs_background": "light"
     },
     "output_type": "display_data"
    }
   ],
   "source": [
    "#player1 = random.sample(batter_elos.keys(), 1)[0]\n",
    "#player2 = random.sample(batter_elos.keys(), 1)[0]\n",
    "#c = np.random.rand(3,)\n",
    "\n",
    "player1 = \"Aaron Judge\"\n",
    "player3 = \"Yordan Alvarez\"\n",
    "player4 = \"Freddie Freeman\"\n",
    "\n",
    "\n",
    "plt.plot(batter_elos[player1], c = 'midnightblue')\n",
    "plt.plot(batter_elos[player3], c = 'darkorange')\n",
    "plt.plot(batter_elos[player4], c = 'royalblue')\n",
    "\n",
    "plt.xlabel(\"Plate Appearances\")\n",
    "plt.ylabel(\"Elo\")\n",
    "plt.title(\"Top Elo Hitters by PA\")\n",
    "plt.legend([player1, player3, player4])\n",
    "\n",
    "plt.savefig('hitter_elo_plot.png')\n",
    "plt.show()"
   ]
  },
  {
   "cell_type": "code",
   "execution_count": 75,
   "id": "fbf6e16d",
   "metadata": {},
   "outputs": [
    {
     "data": {
      "image/png": "[encoded data removed]",
      "text/plain": [
       "<Figure size 432x288 with 1 Axes>"
      ]
     },
     "metadata": {
      "needs_background": "light"
     },
     "output_type": "display_data"
    }
   ],
   "source": [
    "#player1 = random.sample(pitcher_elos.keys(), 1)[0]\n",
    "#player2 = random.sample(pitcher_elos.keys(), 1)[0]\n",
    "\n",
    "player1 = \"Justin Verlander\"\n",
    "player2 = \"Sandy Alcantara\"\n",
    "player3 = \"Zac Gallen\"\n",
    "\n",
    "plt.plot(pitcher_elos[player1], c = 'darkorange')\n",
    "plt.plot(pitcher_elos[player2], c = 'deepskyblue')\n",
    "plt.plot(pitcher_elos[player3], c = 'crimson')\n",
    "\n",
    "plt.xlabel(\"Plate Appearances\")\n",
    "plt.ylabel(\"Elo\")\n",
    "plt.title(\"Top Elo Pitchers by PA\")\n",
    "plt.legend([player1, player2, player3])\n",
    "\n",
    "plt.savefig('pitcher_elo_plot.png')\n",
    "plt.show()"
   ]
  },
  {
   "cell_type": "code",
   "execution_count": 398,
   "id": "7908810b",
   "metadata": {},
   "outputs": [
    {
     "data": {
      "image/png": "[encoded data removed]",
      "text/plain": [
       "<Figure size 432x288 with 1 Axes>"
      ]
     },
     "metadata": {
      "needs_background": "light"
     },
     "output_type": "display_data"
    }
   ],
   "source": [
    "#batter = random.sample(batter_elos.keys(), 1)[0]\n",
    "#pitcher = random.sample(pitcher_elos.keys(), 1)[0]\n",
    "\n",
    "batter = \"Mike Trout\"\n",
    "pitcher = \"Shohei Ohtani\"\n",
    "\n",
    "#bElo = batting_df.loc[batting_df['Name'] == batter, 'Elo'].iloc[0]\n",
    "#pElo = pitching_df.loc[pitching_df['Name'] == pitcher, 'Elo'].iloc[0]\n",
    "\n",
    "min_len = min(len(pitcher_elos[pitcher]), len(batter_elos[batter]))\n",
    "diffs = np.subtract(pitcher_elos[pitcher][:min_len], batter_elos[batter][:min_len])\n",
    "probs = 1 / (1 + np.exp((diffs)/400))\n",
    "\n",
    "plt.plot(probs, c = 'crimson')\n",
    "\n",
    "plt.xlabel(\"Plate Appearances\")\n",
    "plt.ylabel(\"Batter Win Probability\")\n",
    "plt.title(batter + \" vs. \" + pitcher)\n",
    "\n",
    "plt.savefig('troutvohtani.png')\n",
    "plt.show()"
   ]
  },
  {
   "cell_type": "code",
   "execution_count": 400,
   "id": "30fc7713",
   "metadata": {},
   "outputs": [
    {
     "name": "stdout",
     "output_type": "stream",
     "text": [
      "0.5473576181430894\n"
     ]
    }
   ],
   "source": [
    "batter = \"Mike Trout\"\n",
    "pitcher = \"Shohei Ohtani\"\n",
    "#obp = batting_leaders.loc[batting_leaders['Name'] == batter, 'OBP'].iloc[0]\n",
    "\n",
    "bElo = bElo = batting_df.loc[batting_df['Name'] == batter, 'Elo'].iloc[0]\n",
    "pElo = pitching_df.loc[pitching_df['Name'] == pitcher, 'Elo'].iloc[0]\n",
    "\n",
    "prob_avg = 1 / (1 + np.exp((1500 - bElo)/400))\n",
    "prob_p = 1 / (1 + np.exp((pElo - bElo)/400))\n",
    "\n",
    "#f = obp/prob_avg\n",
    "f = 1\n",
    "print(prob_p*f)"
   ]
  },
  {
   "cell_type": "code",
   "execution_count": null,
   "id": "c0dbabfe",
   "metadata": {},
   "outputs": [],
   "source": [
    "correct = 0\n",
    "incorrect = 0\n",
    "\n",
    "outs = 0\n",
    "\n",
    "for row in playoff.iterrows():\n",
    "    batter = \n",
    "    bElo = playoff_b_df.loc[playoff_b_df['Name'] == row[1]['BATTER'], 'Elo'].iloc[0]\n",
    "    pElo = playoff_p_df.loc[playoff_p_df['Name'] == row[1]['PITCHER'], 'Elo'].iloc[0]\n",
    "    \n",
    "    bi = playoff_b_df.index[playoff_b_df['Name'] == row[1]['BATTER']][0]\n",
    "    pi = playoff_p_df.index[playoff_p_df['Name'] == row[1]['PITCHER']][0]\n",
    "    \n",
    "    "
   ]
  },
  {
   "cell_type": "code",
   "execution_count": 428,
   "id": "5cfe3a9e",
   "metadata": {},
   "outputs": [],
   "source": [
    "playoff_p_df = pitching_df.copy()\n",
    "playoff_b_df = batting_df.copy()\n",
    "probs0 = []\n",
    "probs1 = []\n",
    "\n",
    "ylo = []\n",
    "yhi = []\n",
    "\n",
    "playoff = df_2022.loc[df_2022['BIGDATABALL\\nDATASET'] == 'MLB 2022 Playoffs']"
   ]
  },
  {
   "cell_type": "code",
   "execution_count": 429,
   "id": "a0010c46",
   "metadata": {
    "scrolled": false
   },
   "outputs": [],
   "source": [
    "correct = 0\n",
    "incorrect = 0\n",
    "\n",
    "outs = 0\n",
    "\n",
    "for row in playoff.iterrows():\n",
    "    bElo = playoff_b_df.loc[playoff_b_df['Name'] == row[1]['BATTER'], 'Elo'].iloc[0]\n",
    "    pElo = playoff_p_df.loc[playoff_p_df['Name'] == row[1]['PITCHER'], 'Elo'].iloc[0]\n",
    "    \n",
    "    bi = playoff_b_df.index[playoff_b_df['Name'] == row[1]['BATTER']][0]\n",
    "    pi = playoff_p_df.index[playoff_p_df['Name'] == row[1]['PITCHER']][0]\n",
    "    \n",
    "    prob = 1 / (1 + np.exp((pElo - bElo)/200))\n",
    "    \n",
    "    pred = 0\n",
    "    actual = 0\n",
    "    \n",
    "    if prob > 0.6:\n",
    "        pred = 1\n",
    "    \n",
    "    if prob > 0.66:\n",
    "        if math.isnan(row[1]['OUTS']):\n",
    "            yhi.append(1)\n",
    "        else:\n",
    "            yhi.append(0)\n",
    "    elif prob < 0.33:\n",
    "        if math.isnan(row[1]['OUTS']):\n",
    "            ylo.append(1)\n",
    "        else:\n",
    "            ylo.append(0)\n",
    "        \n",
    "    if math.isnan(row[1]['OUTS']):\n",
    "        actual = 1\n",
    "        probs1.append(prob)\n",
    "    else:\n",
    "        outs += 1\n",
    "        probs0.append(prob)\n",
    "        \n",
    "    outcomes.append(actual)\n",
    "        \n",
    "    if pred == actual:\n",
    "        correct += 1\n",
    "    else:\n",
    "        incorrect += 1\n",
    "        \n",
    "    # Update Elos based on outcome of PAs\n",
    "    if math.isnan(row[1]['OUTS']):   \n",
    "        bElo += update(bElo, pElo, play_weights[row[1]['PLAY TYPE']])\n",
    "        pElo -= update(bElo, pElo, play_weights[row[1]['PLAY TYPE']])\n",
    "    else:\n",
    "        bElo += update(pElo, bElo, play_weights[row[1]['PLAY TYPE']])\n",
    "        pElo -= update(pElo, bElo, play_weights[row[1]['PLAY TYPE']])\n",
    "    \n",
    "    playoff_p_df.at[pi,'Elo'] = pElo\n",
    "    playoff_b_df.at[bi,'Elo'] = bElo"
   ]
  },
  {
   "cell_type": "code",
   "execution_count": 427,
   "id": "a0b274e7",
   "metadata": {},
   "outputs": [
    {
     "name": "stdout",
     "output_type": "stream",
     "text": [
      "0.5201391304417058\n",
      "0.5247679467799834\n"
     ]
    },
    {
     "data": {
      "image/png": "[encoded data removed]",
      "text/plain": [
       "<Figure size 432x288 with 1 Axes>"
      ]
     },
     "metadata": {
      "needs_background": "light"
     },
     "output_type": "display_data"
    }
   ],
   "source": [
    "plt.hist(probs0, bins = 20, label = \"Out\")\n",
    "plt.hist(probs1, bins = 20, color = 'crimson', label = \"No out\")\n",
    "\n",
    "plt.xlabel(\"Batter Win Probability\")\n",
    "plt.ylabel(\"Frequency\")\n",
    "plt.legend(loc=\"upper right\")\n",
    "plt.title(\"Frequency of Win Probabilities\")\n",
    "\n",
    "plt.savefig('freqprobs.png')\n",
    "\n",
    "print(stats.mean(probs0))\n",
    "print(stats.mean(probs1))"
   ]
  },
  {
   "cell_type": "code",
   "execution_count": 430,
   "id": "b3d051dd",
   "metadata": {},
   "outputs": [
    {
     "data": {
      "text/plain": [
       "array([8, 5])"
      ]
     },
     "execution_count": 430,
     "metadata": {},
     "output_type": "execute_result"
    },
    {
     "data": {
      "image/png": "[encoded data removed]",
      "text/plain": [
       "<Figure size 432x288 with 1 Axes>"
      ]
     },
     "metadata": {
      "needs_background": "light"
     },
     "output_type": "display_data"
    }
   ],
   "source": [
    "plt.hist(yhi, bins=[-.5,.5,1.5], color = 'crimson', label = \"p > 0.65\")\n",
    "plt.hist(ylo, bins=[-.5,.5,1.5], label = \"p < 0.4\")\n",
    "\n",
    "plt.xlabel(\"PA Outcome\")\n",
    "plt.ylabel(\"Frequency\")\n",
    "plt.legend(loc=\"upper right\")\n",
    "plt.title(\"Mismatch PA Outcome Frequency\")\n",
    "\n",
    "plt.xticks((0,1))\n",
    "\n",
    "plt.savefig('paoutcome.png')\n",
    "\n",
    "counts,_ = np.histogram(ylo, bins = 2)\n",
    "counts"
   ]
  },
  {
   "cell_type": "code",
   "execution_count": 345,
   "id": "a2d9de95",
   "metadata": {},
   "outputs": [
    {
     "data": {
      "text/plain": [
       "-0.04463217066287368"
      ]
     },
     "execution_count": 345,
     "metadata": {},
     "output_type": "execute_result"
    }
   ],
   "source": [
    "batter_diffs = {}\n",
    "\n",
    "for player in batter_elos.keys():\n",
    "    diffs = []\n",
    "    \n",
    "    for x, y in zip(batter_elos[player][0::], batter_elos[player][1::]):\n",
    "        diffs.append(y-x)\n",
    "        \n",
    "    if len(diffs) > 0:\n",
    "        batter_diffs[player] = stats.mean(diffs)\n",
    "        \n",
    "sum(batter_diffs.values())/len(batter_diffs)"
   ]
  },
  {
   "cell_type": "code",
   "execution_count": 346,
   "id": "ebcc9e88",
   "metadata": {},
   "outputs": [
    {
     "data": {
      "text/plain": [
       "-0.09791735132007541"
      ]
     },
     "execution_count": 346,
     "metadata": {},
     "output_type": "execute_result"
    }
   ],
   "source": [
    "pitcher_diffs = {}\n",
    "\n",
    "for player in pitcher_elos.keys():\n",
    "    diffs = []\n",
    "    \n",
    "    for x, y in zip(pitcher_elos[player][0::], pitcher_elos[player][1::]):\n",
    "        diffs.append(y-x)\n",
    "        \n",
    "    if len(diffs) > 0:\n",
    "        pitcher_diffs[player] = stats.mean(diffs)\n",
    "\n",
    "sum(pitcher_diffs.values())/len(pitcher_diffs)"
   ]
  },
  {
   "cell_type": "code",
   "execution_count": null,
   "id": "43f63520",
   "metadata": {},
   "outputs": [],
   "source": []
  }
 ],
 "metadata": {
  "kernelspec": {
   "display_name": "Python 3",
   "language": "python",
   "name": "python3"
  },
  "language_info": {
   "codemirror_mode": {
    "name": "ipython",
    "version": 3
   },
   "file_extension": ".py",
   "mimetype": "text/x-python",
   "name": "python",
   "nbconvert_exporter": "python",
   "pygments_lexer": "ipython3",
   "version": "3.8.8"
  }
 },
 "nbformat": 4,
 "nbformat_minor": 5
}
